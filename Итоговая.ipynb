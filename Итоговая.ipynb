{
 "cells": [
  {
   "cell_type": "code",
   "execution_count": 1,
   "id": "7fd3cd48-4aee-4eef-a56c-fbb750a212d1",
   "metadata": {
    "tags": []
   },
   "outputs": [],
   "source": [
    "import numpy as np\n",
    "import pandas as pd\n",
    "import tensorflow as tf\n",
    "from tensorflow import keras\n",
    "from sklearn.model_selection import train_test_split\n",
    "from tensorflow.keras import layers, models\n",
    "import os"
   ]
  },
  {
   "cell_type": "code",
   "execution_count": 2,
   "id": "953cc979-8d96-47f5-ad20-e4d609987a0d",
   "metadata": {
    "tags": []
   },
   "outputs": [],
   "source": [
    "def unpickle(file):\n",
    "    import pickle\n",
    "    with open(file, 'rb') as fo:\n",
    "        dict = pickle.load(fo, encoding='bytes')\n",
    "    return dict"
   ]
  },
  {
   "cell_type": "code",
   "execution_count": 3,
   "id": "2574449b-9b29-4d5c-95ed-6dd590ce5c18",
   "metadata": {
    "tags": []
   },
   "outputs": [
    {
     "data": {
      "text/plain": [
       "{0: b'aquatic_mammals',\n",
       " 1: b'fish',\n",
       " 2: b'flowers',\n",
       " 3: b'food_containers',\n",
       " 4: b'fruit_and_vegetables',\n",
       " 5: b'household_electrical_devices',\n",
       " 6: b'household_furniture',\n",
       " 7: b'insects',\n",
       " 8: b'large_carnivores',\n",
       " 9: b'large_man-made_outdoor_things',\n",
       " 10: b'large_natural_outdoor_scenes',\n",
       " 11: b'large_omnivores_and_herbivores',\n",
       " 12: b'medium_mammals',\n",
       " 13: b'non-insect_invertebrates',\n",
       " 14: b'people',\n",
       " 15: b'reptiles',\n",
       " 16: b'small_mammals',\n",
       " 17: b'trees',\n",
       " 18: b'vehicles_1',\n",
       " 19: b'vehicles_2'}"
      ]
     },
     "execution_count": 3,
     "metadata": {},
     "output_type": "execute_result"
    }
   ],
   "source": [
    "metadata_path = 'C:/Users/sheyn/Python notebook/data/last/cifar-100-python/meta' # change this path`\\\n",
    "metadata = unpickle(metadata_path)\n",
    "superclass_dict = dict(list(enumerate(metadata[b'coarse_label_names'])))\n",
    "superclass_dict"
   ]
  },
  {
   "cell_type": "code",
   "execution_count": 4,
   "id": "ff53efbd-7176-4532-9b27-7fb1a385b176",
   "metadata": {
    "tags": []
   },
   "outputs": [],
   "source": [
    "data_pre_path = 'C:/Users/sheyn/Python notebook/data/last/cifar-100-python/' # change this path\n",
    "# File paths\n",
    "data_train_path = data_pre_path + 'train'\n",
    "data_test_path = data_pre_path + 'test'\n",
    "# Read dictionary\n",
    "data_train_dict = unpickle(data_train_path)\n",
    "data_test_dict = unpickle(data_test_path)\n",
    "# Get data (change the coarse_labels if you want to use the 100 classes)\n",
    "X_train_20 = data_train_dict[b'data']\n",
    "y_train_20 = np.array(data_train_dict[b'coarse_labels'])\n",
    "X_test_20 = data_test_dict[b'data']\n",
    "y_test_20 = np.array(data_test_dict[b'coarse_labels'])"
   ]
  },
  {
   "cell_type": "code",
   "execution_count": 5,
   "id": "cd0bfbce-c221-4a9e-9e50-e44ed63b5ebf",
   "metadata": {
    "tags": []
   },
   "outputs": [],
   "source": [
    "(X_train_100, y_train_100), (X_test_100, y_test_100) = keras.datasets.cifar100.load_data()"
   ]
  },
  {
   "cell_type": "code",
   "execution_count": 6,
   "id": "170fc9e3-b5aa-47cb-ba77-98888c2fcdd1",
   "metadata": {
    "tags": []
   },
   "outputs": [],
   "source": [
    "y_train_20 = tf.one_hot(y_train_20, \n",
    "                     depth=y_train_20.max() + 1, \n",
    "                     dtype=tf.float64) \n",
    "y_test_20 = tf.one_hot(y_test_20, \n",
    "                   depth=y_test_20.max() + 1, \n",
    "                   dtype=tf.float64) \n",
    "  \n",
    "y_train_20 = tf.squeeze(y_train_20) \n",
    "y_test_20 = tf.squeeze(y_test_20) \n",
    "\n",
    "X_train_20 = X_train_20.reshape(-1, 32, 32, 3)\n",
    "X_test_20 = X_test_20.reshape(-1, 32, 32, 3)"
   ]
  },
  {
   "cell_type": "markdown",
   "id": "c0128c4d-79de-451c-863e-f71e10e68277",
   "metadata": {},
   "source": [
    "#### y_train_20 = tf.one_hot(y_train_20, depth=y_train_20.max() + 1, dtype=tf.float64) и y_test_20 = tf.one_hot(y_test_20, depth=y_test_20.max() + 1, dtype=tf.float64): \n",
    "\n",
    "Эти строки кода выполняют one-hot кодирование меток классов. В исходных данных метки представляют собой целые числа (например, от 0 до 19), которые указывают на принадлежность объекта к одному из 20 классов. One-hot кодирование преобразует каждую метку в вектор с нулями и одной единицей, которая указывает на класс объекта. Например, метка 3 будет преобразована в [0, 0, 0, 1, 0, 0, 0, 0, 0, 0, 0, 0, 0, 0, 0, 0, 0, 0, 0, 0]. Это необходимо для обучения модели, так как она ожидает на входе такой формат меток.\n",
    "\n",
    "#### y_train_20 = tf.squeeze(y_train_20) и y_test_20 = tf.squeeze(y_test_20):\n",
    "\n",
    "После one-hot кодирования меток могут получиться лишние измерения. Функция tf.squeeze удаляет измерения с размером 1, чтобы привести метки к правильной форме, с которой может работать модель.\n",
    "\n",
    "#### X_train_20 = X_train_20.reshape(-1, 32, 32, 3) и X_test_20 = X_test_20.reshape(-1, 32, 32, 3):\n",
    "\n",
    "Эти строки кода изменяют форму данных (изображений). Исходные данные представляют собой одномерные массивы (например, 32x32x3), но для сверточной нейронной сети необходима трехмерная форма с размерностью (высота, ширина, количество каналов). Поэтому данные изменяют форму, чтобы привести их к нужному формату."
   ]
  },
  {
   "cell_type": "code",
   "execution_count": 7,
   "id": "fd7c4ac6-fbed-4578-ba79-8225aa2134a7",
   "metadata": {
    "tags": []
   },
   "outputs": [],
   "source": [
    "model = tf.keras.models.Sequential([ \n",
    "    layers.Conv2D(16, (3, 3), activation='relu', \n",
    "                  input_shape=(32, 32, 3), padding='same'), \n",
    "    layers.Conv2D(32, (3, 3), \n",
    "                  activation='relu', \n",
    "                  padding='same'), \n",
    "    layers.Conv2D(64, (3, 3), \n",
    "                  activation='relu', \n",
    "                  padding='same'), \n",
    "    layers.MaxPooling2D(2, 2), \n",
    "    layers.Conv2D(128, (3, 3), \n",
    "                  activation='relu', \n",
    "                  padding='same'), \n",
    "  \n",
    "  \n",
    "    layers.Flatten(), \n",
    "    layers.Dense(256, activation='relu'), \n",
    "    layers.BatchNormalization(), \n",
    "    layers.Dense(256, activation='relu'), \n",
    "    layers.Dropout(0.3), \n",
    "    layers.BatchNormalization(), \n",
    "    layers.Dense(20, activation='softmax') \n",
    "]) \n",
    "  \n",
    "model.compile( \n",
    "    loss=tf.keras.losses.CategoricalCrossentropy(from_logits=True), \n",
    "    optimizer='adam', \n",
    "    metrics=['AUC', 'accuracy'] \n",
    ") "
   ]
  },
  {
   "cell_type": "code",
   "execution_count": 8,
   "id": "e7948335-9fce-4646-8cc8-e542f63f5df7",
   "metadata": {
    "tags": []
   },
   "outputs": [
    {
     "name": "stdout",
     "output_type": "stream",
     "text": [
      "Model: \"sequential\"\n",
      "_________________________________________________________________\n",
      " Layer (type)                Output Shape              Param #   \n",
      "=================================================================\n",
      " conv2d (Conv2D)             (None, 32, 32, 16)        448       \n",
      "                                                                 \n",
      " conv2d_1 (Conv2D)           (None, 32, 32, 32)        4640      \n",
      "                                                                 \n",
      " conv2d_2 (Conv2D)           (None, 32, 32, 64)        18496     \n",
      "                                                                 \n",
      " max_pooling2d (MaxPooling2  (None, 16, 16, 64)        0         \n",
      " D)                                                              \n",
      "                                                                 \n",
      " conv2d_3 (Conv2D)           (None, 16, 16, 128)       73856     \n",
      "                                                                 \n",
      " flatten (Flatten)           (None, 32768)             0         \n",
      "                                                                 \n",
      " dense (Dense)               (None, 256)               8388864   \n",
      "                                                                 \n",
      " batch_normalization (Batch  (None, 256)               1024      \n",
      " Normalization)                                                  \n",
      "                                                                 \n",
      " dense_1 (Dense)             (None, 256)               65792     \n",
      "                                                                 \n",
      " dropout (Dropout)           (None, 256)               0         \n",
      "                                                                 \n",
      " batch_normalization_1 (Bat  (None, 256)               1024      \n",
      " chNormalization)                                                \n",
      "                                                                 \n",
      " dense_2 (Dense)             (None, 20)                5140      \n",
      "                                                                 \n",
      "=================================================================\n",
      "Total params: 8559284 (32.65 MB)\n",
      "Trainable params: 8558260 (32.65 MB)\n",
      "Non-trainable params: 1024 (4.00 KB)\n",
      "_________________________________________________________________\n"
     ]
    }
   ],
   "source": [
    "model.summary()"
   ]
  },
  {
   "cell_type": "markdown",
   "id": "163b1320-23db-4499-af64-d928734885cd",
   "metadata": {},
   "source": [
    "Обе модели имеют сходную архитектуру, начиная с сверточных слоев и заканчивая полносвязными слоями.\n",
    "\n",
    "#### Слой Conv2D:\n",
    "\n",
    "Это сверточный слой, который выполняет операции свертки на входных изображениях. Он использует окно размером 3x3 для извлечения признаков из изображения. Параметр activation='relu' указывает на использование функции активации ReLU после свертки.\n",
    "\n",
    "#### Слой MaxPooling2D:\n",
    "\n",
    "После нескольких сверточных слоев идет слой пулинга. Он уменьшает размерность данных и выделяет наиболее важные признаки, помогая уменьшить вычислительную сложность.\n",
    "\n",
    "#### Слой Flatten:\n",
    "\n",
    "Этот слой преобразует данные из многомерной структуры в одномерную, подготавливая их к подаче на полносвязные слои.\n",
    "\n",
    "#### Слой BatchNormalization:\n",
    "\n",
    "Это слой нормализации батча (Batch Normalization), который обычно используется в сверточных нейронных сетях. Его целью является улучшение стабильности и ускорение обучения модели\n",
    "\n",
    "#### Полносвязные слои (Dense):\n",
    "\n",
    "Эти слои представляют собой обычные полносвязные слои нейронной сети. Первый Dense слой имеет 256 нейронов с функцией активации ReLU. Затем идут слои BatchNormalization для нормализации данных, Dropout для регуляризации, и окончательный полносвязный слой с числом выходных нейронов, соответствующим числу классов (20 или 100 в зависимости от модели). Этот слой использует функцию активации softmax, чтобы предсказать вероятности принадлежности объекта к каждому из классов.\n",
    "\n",
    "#### Параметры модели:\n",
    "\n",
    "После описания архитектуры модели показываются параметры, такие как количество параметров, которые можно обучать (trainable params) и необучаемых параметров (non-trainable params)."
   ]
  },
  {
   "cell_type": "code",
   "execution_count": 9,
   "id": "e2585297-0d82-4f5d-b625-f65de03b7aa3",
   "metadata": {
    "tags": []
   },
   "outputs": [
    {
     "name": "stdout",
     "output_type": "stream",
     "text": [
      "Epoch 1/6\n"
     ]
    },
    {
     "name": "stderr",
     "output_type": "stream",
     "text": [
      "C:\\Users\\sheyn\\AppData\\Roaming\\Python\\Python311\\site-packages\\keras\\src\\backend.py:5577: UserWarning: \"`categorical_crossentropy` received `from_logits=True`, but the `output` argument was produced by a Softmax activation and thus does not represent logits. Was this intended?\n",
      "  output, from_logits = _get_logits(\n"
     ]
    },
    {
     "name": "stdout",
     "output_type": "stream",
     "text": [
      "782/782 [==============================] - 94s 118ms/step - loss: 2.5083 - auc: 0.7802 - accuracy: 0.2490 - val_loss: 2.7996 - val_auc: 0.7433 - val_accuracy: 0.1706\n",
      "Epoch 2/6\n",
      "782/782 [==============================] - 93s 119ms/step - loss: 2.3073 - auc: 0.8185 - accuracy: 0.2883 - val_loss: 3.4195 - val_auc: 0.6753 - val_accuracy: 0.1109\n",
      "Epoch 3/6\n",
      "782/782 [==============================] - 94s 120ms/step - loss: 2.1889 - auc: 0.8402 - accuracy: 0.3277 - val_loss: 2.3241 - val_auc: 0.8226 - val_accuracy: 0.2900\n",
      "Epoch 4/6\n",
      "782/782 [==============================] - 96s 122ms/step - loss: 1.9940 - auc: 0.8720 - accuracy: 0.3822 - val_loss: 2.0796 - val_auc: 0.8622 - val_accuracy: 0.3793\n",
      "Epoch 5/6\n",
      "782/782 [==============================] - 93s 120ms/step - loss: 2.3438 - auc: 0.8117 - accuracy: 0.2762 - val_loss: 2.9971 - val_auc: 0.7252 - val_accuracy: 0.1597\n",
      "Epoch 6/6\n",
      "782/782 [==============================] - 92s 118ms/step - loss: 2.1156 - auc: 0.8533 - accuracy: 0.3471 - val_loss: 2.6194 - val_auc: 0.8360 - val_accuracy: 0.3300\n"
     ]
    }
   ],
   "source": [
    "hist = model.fit(X_train_20, y_train_20, \n",
    "                 epochs=6, \n",
    "                 batch_size=64, \n",
    "                 verbose=1, \n",
    "                 validation_data=(X_test_20, y_test_20)) "
   ]
  },
  {
   "cell_type": "code",
   "execution_count": 10,
   "id": "04f9e934-a4e4-4708-b3c8-7ad5f6ac356b",
   "metadata": {
    "tags": []
   },
   "outputs": [
    {
     "data": {
      "text/plain": [
       "<tf.Tensor: shape=(10000, 20), dtype=float64, numpy=\n",
       "array([[0., 0., 0., ..., 0., 0., 0.],\n",
       "       [0., 0., 0., ..., 0., 0., 0.],\n",
       "       [1., 0., 0., ..., 0., 0., 0.],\n",
       "       ...,\n",
       "       [0., 0., 0., ..., 0., 0., 0.],\n",
       "       [0., 0., 0., ..., 0., 0., 0.],\n",
       "       [0., 0., 1., ..., 0., 0., 0.]])>"
      ]
     },
     "execution_count": 10,
     "metadata": {},
     "output_type": "execute_result"
    }
   ],
   "source": [
    "y_test_20"
   ]
  },
  {
   "cell_type": "code",
   "execution_count": 11,
   "id": "78968bf4-ea8e-4a4c-8753-434f99ec8fc7",
   "metadata": {
    "tags": []
   },
   "outputs": [],
   "source": [
    "y_train_100 = tf.one_hot(y_train_100, \n",
    "                     depth=y_train_100.max() + 1, \n",
    "                     dtype=tf.float64) \n",
    "y_test_100 = tf.one_hot(y_test_100, \n",
    "                   depth=y_test_100.max() + 1, \n",
    "                   dtype=tf.float64) \n",
    "  \n",
    "y_train_100 = tf.squeeze(y_train_100) \n",
    "y_test_100 = tf.squeeze(y_test_100) \n",
    "\n",
    "X_train_100 = X_train_100.reshape(-1, 32, 32, 3)\n",
    "X_test_100 = X_test_100.reshape(-1, 32, 32, 3)"
   ]
  },
  {
   "cell_type": "code",
   "execution_count": 12,
   "id": "ddf4d906-61db-4e41-9e79-006f11068bf2",
   "metadata": {
    "tags": []
   },
   "outputs": [
    {
     "data": {
      "text/plain": [
       "<tf.Tensor: shape=(10000, 100), dtype=float64, numpy=\n",
       "array([[0., 0., 0., ..., 0., 0., 0.],\n",
       "       [0., 0., 0., ..., 0., 0., 0.],\n",
       "       [0., 0., 0., ..., 0., 0., 0.],\n",
       "       ...,\n",
       "       [0., 0., 0., ..., 0., 0., 0.],\n",
       "       [0., 0., 0., ..., 0., 0., 0.],\n",
       "       [0., 0., 0., ..., 0., 0., 0.]])>"
      ]
     },
     "execution_count": 12,
     "metadata": {},
     "output_type": "execute_result"
    }
   ],
   "source": [
    "y_test_100"
   ]
  },
  {
   "cell_type": "code",
   "execution_count": 13,
   "id": "79c212e6-f40f-469c-be2a-86bda49caa02",
   "metadata": {
    "tags": []
   },
   "outputs": [],
   "source": [
    "model_2 = tf.keras.models.Sequential([ \n",
    "    layers.Conv2D(16, (3, 3), activation='relu', \n",
    "                  input_shape=(32, 32, 3), padding='same'), \n",
    "    layers.Conv2D(32, (3, 3), \n",
    "                  activation='relu', \n",
    "                  padding='same'), \n",
    "    layers.Conv2D(64, (3, 3), \n",
    "                  activation='relu', \n",
    "                  padding='same'), \n",
    "    layers.MaxPooling2D(2, 2), \n",
    "    layers.Conv2D(128, (3, 3), \n",
    "                  activation='relu', \n",
    "                  padding='same'), \n",
    "  \n",
    "  \n",
    "    layers.Flatten(), \n",
    "    layers.Dense(256, activation='relu'), \n",
    "    layers.BatchNormalization(), \n",
    "    layers.Dense(256, activation='relu'), \n",
    "    layers.Dropout(0.3), \n",
    "    layers.BatchNormalization(), \n",
    "    layers.Dense(100, activation='softmax') \n",
    "]) \n",
    "  \n",
    "model_2.compile( \n",
    "    loss=tf.keras.losses.CategoricalCrossentropy(from_logits=True), \n",
    "    optimizer='adam', \n",
    "    metrics=['AUC', 'accuracy'] \n",
    ") "
   ]
  },
  {
   "cell_type": "code",
   "execution_count": 14,
   "id": "8aa90148-4fba-4922-9d38-cb5be350cbbc",
   "metadata": {
    "tags": []
   },
   "outputs": [
    {
     "name": "stdout",
     "output_type": "stream",
     "text": [
      "Epoch 1/6\n",
      "782/782 [==============================] - 94s 119ms/step - loss: 3.9051 - auc: 0.7854 - accuracy: 0.1127 - val_loss: 6.1921 - val_auc: 0.6196 - val_accuracy: 0.0683\n",
      "Epoch 2/6\n",
      "782/782 [==============================] - 92s 118ms/step - loss: 3.1640 - auc: 0.8800 - accuracy: 0.2258 - val_loss: 2.9715 - val_auc: 0.8938 - val_accuracy: 0.2667\n",
      "Epoch 3/6\n",
      "782/782 [==============================] - 92s 118ms/step - loss: 2.6970 - auc: 0.9154 - accuracy: 0.3186 - val_loss: 5.0701 - val_auc: 0.7297 - val_accuracy: 0.1189\n",
      "Epoch 4/6\n",
      "782/782 [==============================] - 92s 117ms/step - loss: 2.4974 - auc: 0.9270 - accuracy: 0.3584 - val_loss: 3.1510 - val_auc: 0.8696 - val_accuracy: 0.2632\n",
      "Epoch 5/6\n",
      "782/782 [==============================] - 92s 117ms/step - loss: 2.6611 - auc: 0.9157 - accuracy: 0.3280 - val_loss: 2.8868 - val_auc: 0.8909 - val_accuracy: 0.3148\n",
      "Epoch 6/6\n",
      "782/782 [==============================] - 92s 117ms/step - loss: 2.2112 - auc: 0.9434 - accuracy: 0.4204 - val_loss: 2.5961 - val_auc: 0.9156 - val_accuracy: 0.3671\n"
     ]
    }
   ],
   "source": [
    "hist_2 = model_2.fit(X_train_100, y_train_100, \n",
    "                 epochs=6, \n",
    "                 batch_size=64, \n",
    "                 verbose=1, \n",
    "                 validation_data=(X_test_100, y_test_100)) "
   ]
  },
  {
   "cell_type": "code",
   "execution_count": 15,
   "id": "c7ca5ba5-2033-4c41-8533-991732dd9430",
   "metadata": {
    "tags": []
   },
   "outputs": [
    {
     "name": "stdout",
     "output_type": "stream",
     "text": [
      "Model: \"sequential_1\"\n",
      "_________________________________________________________________\n",
      " Layer (type)                Output Shape              Param #   \n",
      "=================================================================\n",
      " conv2d_4 (Conv2D)           (None, 32, 32, 16)        448       \n",
      "                                                                 \n",
      " conv2d_5 (Conv2D)           (None, 32, 32, 32)        4640      \n",
      "                                                                 \n",
      " conv2d_6 (Conv2D)           (None, 32, 32, 64)        18496     \n",
      "                                                                 \n",
      " max_pooling2d_1 (MaxPoolin  (None, 16, 16, 64)        0         \n",
      " g2D)                                                            \n",
      "                                                                 \n",
      " conv2d_7 (Conv2D)           (None, 16, 16, 128)       73856     \n",
      "                                                                 \n",
      " flatten_1 (Flatten)         (None, 32768)             0         \n",
      "                                                                 \n",
      " dense_3 (Dense)             (None, 256)               8388864   \n",
      "                                                                 \n",
      " batch_normalization_2 (Bat  (None, 256)               1024      \n",
      " chNormalization)                                                \n",
      "                                                                 \n",
      " dense_4 (Dense)             (None, 256)               65792     \n",
      "                                                                 \n",
      " dropout_1 (Dropout)         (None, 256)               0         \n",
      "                                                                 \n",
      " batch_normalization_3 (Bat  (None, 256)               1024      \n",
      " chNormalization)                                                \n",
      "                                                                 \n",
      " dense_5 (Dense)             (None, 100)               25700     \n",
      "                                                                 \n",
      "=================================================================\n",
      "Total params: 8579844 (32.73 MB)\n",
      "Trainable params: 8578820 (32.73 MB)\n",
      "Non-trainable params: 1024 (4.00 KB)\n",
      "_________________________________________________________________\n"
     ]
    }
   ],
   "source": [
    "model_2.summary()"
   ]
  },
  {
   "cell_type": "code",
   "execution_count": 19,
   "id": "a43cc0bd-676b-4b63-af0c-d42c4edccdfb",
   "metadata": {
    "tags": []
   },
   "outputs": [
    {
     "name": "stdout",
     "output_type": "stream",
     "text": [
      "313/313 [==============================] - 4s 13ms/step\n",
      "313/313 [==============================] - 4s 13ms/step\n",
      "Classification Report for 20 Classes Model:\n",
      "              precision    recall  f1-score   support\n",
      "\n",
      "           0       0.45      0.27      0.34       500\n",
      "           1       0.40      0.27      0.32       500\n",
      "           2       0.75      0.38      0.50       500\n",
      "           3       0.16      0.60      0.26       500\n",
      "           4       0.42      0.46      0.44       500\n",
      "           5       0.19      0.32      0.24       500\n",
      "           6       0.24      0.52      0.33       500\n",
      "           7       0.55      0.20      0.30       500\n",
      "           8       0.27      0.12      0.17       500\n",
      "           9       0.49      0.34      0.41       500\n",
      "          10       0.47      0.73      0.57       500\n",
      "          11       0.32      0.26      0.29       500\n",
      "          12       0.28      0.27      0.27       500\n",
      "          13       0.25      0.04      0.07       500\n",
      "          14       0.36      0.37      0.36       500\n",
      "          15       0.26      0.03      0.06       500\n",
      "          16       0.25      0.04      0.07       500\n",
      "          17       0.53      0.71      0.60       500\n",
      "          18       0.39      0.20      0.26       500\n",
      "          19       0.33      0.47      0.39       500\n",
      "\n",
      "    accuracy                           0.33     10000\n",
      "   macro avg       0.37      0.33      0.31     10000\n",
      "weighted avg       0.37      0.33      0.31     10000\n",
      "\n"
     ]
    }
   ],
   "source": [
    "from sklearn.metrics import classification_report\n",
    "\n",
    "# Получение предсказаний\n",
    "y_pred_20 = model.predict(X_test_20)\n",
    "y_pred_100 = model_2.predict(X_test_100)\n",
    "\n",
    "# Оценка результатов\n",
    "classification_report_20 = classification_report(np.argmax(y_test_20, axis=1), np.argmax(y_pred_20, axis=1))\n",
    "classification_report_100 = classification_report(np.argmax(y_test_100, axis=1), np.argmax(y_pred_100, axis=1))\n",
    "\n",
    "print(\"Classification Report for 20 Classes Model:\")\n",
    "print(classification_report_20)"
   ]
  },
  {
   "cell_type": "code",
   "execution_count": 20,
   "id": "76d8930a-a2f2-40d9-8470-1d3493289d0a",
   "metadata": {
    "tags": []
   },
   "outputs": [
    {
     "name": "stdout",
     "output_type": "stream",
     "text": [
      "Classification Report for 100 Classes Model:\n",
      "              precision    recall  f1-score   support\n",
      "\n",
      "           0       0.55      0.72      0.62       100\n",
      "           1       0.40      0.61      0.49       100\n",
      "           2       0.23      0.22      0.23       100\n",
      "           3       0.22      0.11      0.15       100\n",
      "           4       0.11      0.08      0.09       100\n",
      "           5       0.41      0.32      0.36       100\n",
      "           6       0.45      0.30      0.36       100\n",
      "           7       0.40      0.32      0.35       100\n",
      "           8       0.72      0.48      0.57       100\n",
      "           9       0.87      0.45      0.59       100\n",
      "          10       0.44      0.17      0.24       100\n",
      "          11       0.26      0.23      0.24       100\n",
      "          12       0.54      0.44      0.49       100\n",
      "          13       0.60      0.25      0.35       100\n",
      "          14       0.25      0.48      0.33       100\n",
      "          15       0.26      0.19      0.22       100\n",
      "          16       0.80      0.24      0.37       100\n",
      "          17       0.73      0.36      0.48       100\n",
      "          18       0.21      0.37      0.27       100\n",
      "          19       0.38      0.23      0.29       100\n",
      "          20       0.53      0.73      0.61       100\n",
      "          21       0.37      0.50      0.42       100\n",
      "          22       0.46      0.29      0.36       100\n",
      "          23       0.39      0.69      0.49       100\n",
      "          24       0.54      0.59      0.56       100\n",
      "          25       0.49      0.18      0.26       100\n",
      "          26       0.23      0.42      0.30       100\n",
      "          27       0.25      0.32      0.28       100\n",
      "          28       0.88      0.50      0.64       100\n",
      "          29       0.40      0.32      0.35       100\n",
      "          30       0.25      0.40      0.31       100\n",
      "          31       0.62      0.18      0.28       100\n",
      "          32       0.31      0.30      0.30       100\n",
      "          33       0.62      0.34      0.44       100\n",
      "          34       0.35      0.21      0.26       100\n",
      "          35       0.27      0.15      0.19       100\n",
      "          36       0.30      0.42      0.35       100\n",
      "          37       0.41      0.21      0.28       100\n",
      "          38       0.24      0.25      0.25       100\n",
      "          39       0.30      0.57      0.39       100\n",
      "          40       0.71      0.27      0.39       100\n",
      "          41       0.84      0.53      0.65       100\n",
      "          42       0.39      0.27      0.32       100\n",
      "          43       0.49      0.29      0.36       100\n",
      "          44       0.18      0.15      0.16       100\n",
      "          45       0.16      0.30      0.21       100\n",
      "          46       0.26      0.11      0.15       100\n",
      "          47       0.64      0.34      0.44       100\n",
      "          48       0.54      0.78      0.64       100\n",
      "          49       0.38      0.62      0.47       100\n",
      "          50       0.10      0.19      0.13       100\n",
      "          51       0.37      0.44      0.40       100\n",
      "          52       0.61      0.57      0.59       100\n",
      "          53       0.39      0.71      0.50       100\n",
      "          54       0.32      0.57      0.41       100\n",
      "          55       0.10      0.05      0.07       100\n",
      "          56       0.61      0.59      0.60       100\n",
      "          57       0.34      0.38      0.36       100\n",
      "          58       0.55      0.46      0.50       100\n",
      "          59       0.35      0.25      0.29       100\n",
      "          60       0.78      0.61      0.69       100\n",
      "          61       0.50      0.57      0.53       100\n",
      "          62       0.44      0.31      0.36       100\n",
      "          63       0.53      0.34      0.41       100\n",
      "          64       0.11      0.25      0.15       100\n",
      "          65       0.19      0.27      0.23       100\n",
      "          66       0.19      0.30      0.24       100\n",
      "          67       0.33      0.32      0.32       100\n",
      "          68       0.64      0.77      0.70       100\n",
      "          69       0.66      0.57      0.61       100\n",
      "          70       0.53      0.30      0.38       100\n",
      "          71       0.62      0.36      0.46       100\n",
      "          72       0.17      0.10      0.13       100\n",
      "          73       0.28      0.37      0.32       100\n",
      "          74       0.17      0.34      0.22       100\n",
      "          75       0.59      0.65      0.62       100\n",
      "          76       0.75      0.72      0.73       100\n",
      "          77       0.14      0.20      0.17       100\n",
      "          78       0.17      0.18      0.17       100\n",
      "          79       0.46      0.37      0.41       100\n",
      "          80       0.11      0.17      0.13       100\n",
      "          81       0.65      0.17      0.27       100\n",
      "          82       0.88      0.42      0.57       100\n",
      "          83       0.35      0.21      0.26       100\n",
      "          84       0.46      0.30      0.36       100\n",
      "          85       0.43      0.50      0.46       100\n",
      "          86       0.42      0.53      0.47       100\n",
      "          87       0.68      0.39      0.50       100\n",
      "          88       0.33      0.09      0.14       100\n",
      "          89       0.51      0.33      0.40       100\n",
      "          90       0.43      0.23      0.30       100\n",
      "          91       0.27      0.69      0.39       100\n",
      "          92       0.37      0.16      0.22       100\n",
      "          93       0.34      0.11      0.17       100\n",
      "          94       0.95      0.52      0.67       100\n",
      "          95       0.30      0.47      0.37       100\n",
      "          96       0.35      0.30      0.32       100\n",
      "          97       0.21      0.54      0.30       100\n",
      "          98       0.18      0.20      0.19       100\n",
      "          99       0.23      0.47      0.31       100\n",
      "\n",
      "    accuracy                           0.37     10000\n",
      "   macro avg       0.42      0.37      0.37     10000\n",
      "weighted avg       0.42      0.37      0.37     10000\n",
      "\n"
     ]
    }
   ],
   "source": [
    "print(\"Classification Report for 100 Classes Model:\")\n",
    "print(classification_report_100)"
   ]
  },
  {
   "cell_type": "code",
   "execution_count": 27,
   "id": "19e5e576-19eb-49ab-b867-7a6954c64c18",
   "metadata": {
    "tags": []
   },
   "outputs": [
    {
     "data": {
      "image/png": "[encoded data removed]",
      "text/plain": [
       "<Figure size 1200x600 with 2 Axes>"
      ]
     },
     "metadata": {},
     "output_type": "display_data"
    }
   ],
   "source": [
    "import matplotlib.pyplot as plt\n",
    "\n",
    "# Построение графиков точности\n",
    "epochs = range(1, 7)  # 6 эпох\n",
    "\n",
    "# Точность для модели с 20 классами\n",
    "accuracy_20 = hist.history['accuracy']\n",
    "val_accuracy_20 = hist.history['val_accuracy']\n",
    "\n",
    "# Точность для модели с 100 классами\n",
    "accuracy_100 = hist_2.history['accuracy']\n",
    "val_accuracy_100 = hist_2.history['val_accuracy']\n",
    "\n",
    "plt.figure(figsize=(12, 6))\n",
    "\n",
    "plt.subplot(1, 2, 1)\n",
    "plt.plot(epochs, accuracy_20, 'bo', label='Training accuracy (20 classes)')\n",
    "plt.plot(epochs, val_accuracy_20, 'b', label='Validation accuracy (20 classes)')\n",
    "plt.plot(epochs, accuracy_100, 'ro', label='Training accuracy (100 classes)')\n",
    "plt.plot(epochs, val_accuracy_100, 'r', label='Validation accuracy (100 classes)')\n",
    "plt.title('Training and validation accuracy')\n",
    "plt.xlabel('Epochs')\n",
    "plt.ylabel('Accuracy')\n",
    "plt.legend()\n",
    "\n",
    "# График AUC\n",
    "auc_20 = hist.history['auc']\n",
    "val_auc_20 = hist.history['val_auc']\n",
    "auc_100 = hist_2.history['auc']\n",
    "val_auc_100 = hist_2.history['val_auc']\n",
    "\n",
    "plt.subplot(1, 2, 2)\n",
    "plt.plot(epochs, auc_20, 'bo', label='Training AUC (20 classes)')\n",
    "plt.plot(epochs, val_auc_20, 'b', label='Validation AUC (20 classes)')\n",
    "plt.plot(epochs, auc_100, 'ro', label='Training AUC (100 classes)')\n",
    "plt.plot(epochs, val_auc_100, 'r', label='Validation AUC (100 classes)')\n",
    "plt.title('Training and validation AUC')\n",
    "plt.xlabel('Epochs')\n",
    "plt.ylabel('AUC')\n",
    "plt.legend()\n",
    "\n",
    "plt.show()"
   ]
  },
  {
   "cell_type": "markdown",
   "id": "499e253b-fc7f-492f-8158-5e5e2df76ca6",
   "metadata": {},
   "source": [
    "В ходе сравнения двух моделей, одной с 20 классами и другой с 100 классами, было обнаружено, что модель с 100 классами продемонстрировала незначительное увеличение итоговой AUC и точности по сравнению с моделью с 20 классами.\n",
    "\n",
    "Существуют несколько потенциальных объяснений для этого увеличения:\n",
    "\n",
    "##### Улучшенная обобщающая способность: Включение дополнительных классов может помочь модели лучше выявлять общие паттерны в данных, что, в свою очередь, может повысить ее способность обобщения.\n",
    "\n",
    "##### Более эффективная регуляризация: Дополнительные классы могут действовать как дополнительный вид регуляризации, предотвращая переобучение и способствуя улучшению качества модели.\n",
    "\n",
    "##### Лучшая инициализация: Возможно, модель с 100 классами имела более подходящую инициализацию весов или начальную архитектуру, способствующую более успешному обучению.\n",
    "\n",
    "Тем не менее, стоит отметить, что разница между моделями небольшая, и в реальных прикладных задачах следует учитывать и другие факторы при выборе между ними. Дополнительные классы также требуют больше вычислительных ресурсов и времени на обучение, что также может оказаться важным фактором в принятии решения."
   ]
  }
 ],
 "metadata": {
  "kernelspec": {
   "display_name": "Python 3 (ipykernel)",
   "language": "python",
   "name": "python3"
  },
  "language_info": {
   "codemirror_mode": {
    "name": "ipython",
    "version": 3
   },
   "file_extension": ".py",
   "mimetype": "text/x-python",
   "name": "python",
   "nbconvert_exporter": "python",
   "pygments_lexer": "ipython3",
   "version": "3.11.4"
  }
 },
 "nbformat": 4,
 "nbformat_minor": 5
}
